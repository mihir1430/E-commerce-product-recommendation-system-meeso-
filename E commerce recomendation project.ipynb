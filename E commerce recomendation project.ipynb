{
 "cells": [
  {
   "cell_type": "markdown",
   "id": "1890f5fb-c479-47b8-b077-4954cd561fc4",
   "metadata": {},
   "source": [
    "# <div class=\"alert alert-block alert-success\" dir=\"rtl\" style=\"text-align: center;\"><strong><span style=\"font-size: 20pt\">E Commerce Recomendation project <br /></span></strong></div>"
   ]
  },
  {
   "cell_type": "markdown",
   "id": "1da49601-ab64-40cd-97db-fb91d75fafa1",
   "metadata": {},
   "source": [
    "# Importing required Libreries "
   ]
  },
  {
   "cell_type": "code",
   "execution_count": 1,
   "id": "8d482b6b-e866-4c11-9251-fc77991cbd69",
   "metadata": {},
   "outputs": [],
   "source": [
    "# Step 1: Import Necessary Libraries\n",
    "import pandas as pd\n",
    "import matplotlib.pyplot as plt\n",
    "import seaborn as sns\n",
    "from scipy.sparse import csr_matrix"
   ]
  },
  {
   "cell_type": "markdown",
   "id": "9dff6a9e-fe2a-44d7-8e1e-3ffbbd0e1db7",
   "metadata": {},
   "source": [
    "# Load Dataset"
   ]
  },
  {
   "cell_type": "code",
   "execution_count": 2,
   "id": "881d03ff-bbc8-4c00-b77a-e6b6d5d9d220",
   "metadata": {},
   "outputs": [],
   "source": [
    "# Step 2: Load the Dataset\n",
    "file_path = \"E:\\Downloads\\kurtiData.csv\\kurtiData.csv\"  # Replace with the actual path\n",
    "data = pd.read_csv(file_path)"
   ]
  },
  {
   "cell_type": "code",
   "execution_count": 3,
   "id": "8f65239f-98cb-4fa4-9c59-70de6776edb4",
   "metadata": {},
   "outputs": [],
   "source": [
    "data_copy = data"
   ]
  },
  {
   "cell_type": "code",
   "execution_count": 4,
   "id": "1cf9cc47-711e-4a84-af70-d458df2f77ba",
   "metadata": {},
   "outputs": [
    {
     "data": {
      "text/html": [
       "<div>\n",
       "<style scoped>\n",
       "    .dataframe tbody tr th:only-of-type {\n",
       "        vertical-align: middle;\n",
       "    }\n",
       "\n",
       "    .dataframe tbody tr th {\n",
       "        vertical-align: top;\n",
       "    }\n",
       "\n",
       "    .dataframe thead th {\n",
       "        text-align: right;\n",
       "    }\n",
       "</style>\n",
       "<table border=\"1\" class=\"dataframe\">\n",
       "  <thead>\n",
       "    <tr style=\"text-align: right;\">\n",
       "      <th></th>\n",
       "      <th>user_id</th>\n",
       "      <th>product_id</th>\n",
       "      <th>product_url</th>\n",
       "      <th>image_url</th>\n",
       "      <th>price</th>\n",
       "      <th>rating</th>\n",
       "      <th>timestamp</th>\n",
       "    </tr>\n",
       "  </thead>\n",
       "  <tbody>\n",
       "    <tr>\n",
       "      <th>0</th>\n",
       "      <td>0b32cb93b4d1467a895fdd0c0fdcac7d</td>\n",
       "      <td>1xiamj</td>\n",
       "      <td>https://www.meesho.com/alisha-refined-kurtis/p...</td>\n",
       "      <td>https://images.meesho.com/images/products/1167...</td>\n",
       "      <td>₹293</td>\n",
       "      <td>5</td>\n",
       "      <td>1816526580</td>\n",
       "    </tr>\n",
       "    <tr>\n",
       "      <th>1</th>\n",
       "      <td>a546c81dcb9346619c00f3632bb39318</td>\n",
       "      <td>1xiamj</td>\n",
       "      <td>https://www.meesho.com/alisha-refined-kurtis/p...</td>\n",
       "      <td>https://images.meesho.com/images/products/1167...</td>\n",
       "      <td>₹293</td>\n",
       "      <td>5</td>\n",
       "      <td>1431790209</td>\n",
       "    </tr>\n",
       "    <tr>\n",
       "      <th>2</th>\n",
       "      <td>6f7480ff712d42eb9be53f37641a3bf9</td>\n",
       "      <td>1xiamj</td>\n",
       "      <td>https://www.meesho.com/alisha-refined-kurtis/p...</td>\n",
       "      <td>https://images.meesho.com/images/products/1167...</td>\n",
       "      <td>₹293</td>\n",
       "      <td>5</td>\n",
       "      <td>1455698017</td>\n",
       "    </tr>\n",
       "    <tr>\n",
       "      <th>3</th>\n",
       "      <td>cf05abc75bd74b159bc91a76ad4bfbb5</td>\n",
       "      <td>1xiamj</td>\n",
       "      <td>https://www.meesho.com/alisha-refined-kurtis/p...</td>\n",
       "      <td>https://images.meesho.com/images/products/1167...</td>\n",
       "      <td>₹293</td>\n",
       "      <td>5</td>\n",
       "      <td>1419335880</td>\n",
       "    </tr>\n",
       "    <tr>\n",
       "      <th>4</th>\n",
       "      <td>893a87b0ef41435cbd40f5065bdff448</td>\n",
       "      <td>1xiamj</td>\n",
       "      <td>https://www.meesho.com/alisha-refined-kurtis/p...</td>\n",
       "      <td>https://images.meesho.com/images/products/1167...</td>\n",
       "      <td>₹293</td>\n",
       "      <td>5</td>\n",
       "      <td>1195975318</td>\n",
       "    </tr>\n",
       "    <tr>\n",
       "      <th>...</th>\n",
       "      <td>...</td>\n",
       "      <td>...</td>\n",
       "      <td>...</td>\n",
       "      <td>...</td>\n",
       "      <td>...</td>\n",
       "      <td>...</td>\n",
       "      <td>...</td>\n",
       "    </tr>\n",
       "    <tr>\n",
       "      <th>425993</th>\n",
       "      <td>2c831096d8b542a48f597a7a34084b76</td>\n",
       "      <td>201ubc</td>\n",
       "      <td>https://www.meesho.com/abhisarika-graceful-kur...</td>\n",
       "      <td>https://images.meesho.com/images/products/1210...</td>\n",
       "      <td>₹565</td>\n",
       "      <td>3</td>\n",
       "      <td>1548675154</td>\n",
       "    </tr>\n",
       "    <tr>\n",
       "      <th>425994</th>\n",
       "      <td>50c23ada396c432a84c365ade77b46f5</td>\n",
       "      <td>201ubc</td>\n",
       "      <td>https://www.meesho.com/abhisarika-graceful-kur...</td>\n",
       "      <td>https://images.meesho.com/images/products/1210...</td>\n",
       "      <td>₹565</td>\n",
       "      <td>3</td>\n",
       "      <td>1976300930</td>\n",
       "    </tr>\n",
       "    <tr>\n",
       "      <th>425995</th>\n",
       "      <td>12754d1b019a4effa4b70b59952cf9c0</td>\n",
       "      <td>201ubc</td>\n",
       "      <td>https://www.meesho.com/abhisarika-graceful-kur...</td>\n",
       "      <td>https://images.meesho.com/images/products/1210...</td>\n",
       "      <td>₹565</td>\n",
       "      <td>3</td>\n",
       "      <td>1521222823</td>\n",
       "    </tr>\n",
       "    <tr>\n",
       "      <th>425996</th>\n",
       "      <td>d9904f7f0d644bd6a43c7deeb3964e9f</td>\n",
       "      <td>201ubc</td>\n",
       "      <td>https://www.meesho.com/abhisarika-graceful-kur...</td>\n",
       "      <td>https://images.meesho.com/images/products/1210...</td>\n",
       "      <td>₹565</td>\n",
       "      <td>3</td>\n",
       "      <td>1673400773</td>\n",
       "    </tr>\n",
       "    <tr>\n",
       "      <th>425997</th>\n",
       "      <td>df0319c8f64a40f0928e3b9a38418888</td>\n",
       "      <td>201ubc</td>\n",
       "      <td>https://www.meesho.com/abhisarika-graceful-kur...</td>\n",
       "      <td>https://images.meesho.com/images/products/1210...</td>\n",
       "      <td>₹565</td>\n",
       "      <td>2</td>\n",
       "      <td>1445428668</td>\n",
       "    </tr>\n",
       "  </tbody>\n",
       "</table>\n",
       "<p>425998 rows × 7 columns</p>\n",
       "</div>"
      ],
      "text/plain": [
       "                                 user_id product_id  \\\n",
       "0       0b32cb93b4d1467a895fdd0c0fdcac7d     1xiamj   \n",
       "1       a546c81dcb9346619c00f3632bb39318     1xiamj   \n",
       "2       6f7480ff712d42eb9be53f37641a3bf9     1xiamj   \n",
       "3       cf05abc75bd74b159bc91a76ad4bfbb5     1xiamj   \n",
       "4       893a87b0ef41435cbd40f5065bdff448     1xiamj   \n",
       "...                                  ...        ...   \n",
       "425993  2c831096d8b542a48f597a7a34084b76     201ubc   \n",
       "425994  50c23ada396c432a84c365ade77b46f5     201ubc   \n",
       "425995  12754d1b019a4effa4b70b59952cf9c0     201ubc   \n",
       "425996  d9904f7f0d644bd6a43c7deeb3964e9f     201ubc   \n",
       "425997  df0319c8f64a40f0928e3b9a38418888     201ubc   \n",
       "\n",
       "                                              product_url  \\\n",
       "0       https://www.meesho.com/alisha-refined-kurtis/p...   \n",
       "1       https://www.meesho.com/alisha-refined-kurtis/p...   \n",
       "2       https://www.meesho.com/alisha-refined-kurtis/p...   \n",
       "3       https://www.meesho.com/alisha-refined-kurtis/p...   \n",
       "4       https://www.meesho.com/alisha-refined-kurtis/p...   \n",
       "...                                                   ...   \n",
       "425993  https://www.meesho.com/abhisarika-graceful-kur...   \n",
       "425994  https://www.meesho.com/abhisarika-graceful-kur...   \n",
       "425995  https://www.meesho.com/abhisarika-graceful-kur...   \n",
       "425996  https://www.meesho.com/abhisarika-graceful-kur...   \n",
       "425997  https://www.meesho.com/abhisarika-graceful-kur...   \n",
       "\n",
       "                                                image_url price  rating  \\\n",
       "0       https://images.meesho.com/images/products/1167...  ₹293       5   \n",
       "1       https://images.meesho.com/images/products/1167...  ₹293       5   \n",
       "2       https://images.meesho.com/images/products/1167...  ₹293       5   \n",
       "3       https://images.meesho.com/images/products/1167...  ₹293       5   \n",
       "4       https://images.meesho.com/images/products/1167...  ₹293       5   \n",
       "...                                                   ...   ...     ...   \n",
       "425993  https://images.meesho.com/images/products/1210...  ₹565       3   \n",
       "425994  https://images.meesho.com/images/products/1210...  ₹565       3   \n",
       "425995  https://images.meesho.com/images/products/1210...  ₹565       3   \n",
       "425996  https://images.meesho.com/images/products/1210...  ₹565       3   \n",
       "425997  https://images.meesho.com/images/products/1210...  ₹565       2   \n",
       "\n",
       "         timestamp  \n",
       "0       1816526580  \n",
       "1       1431790209  \n",
       "2       1455698017  \n",
       "3       1419335880  \n",
       "4       1195975318  \n",
       "...            ...  \n",
       "425993  1548675154  \n",
       "425994  1976300930  \n",
       "425995  1521222823  \n",
       "425996  1673400773  \n",
       "425997  1445428668  \n",
       "\n",
       "[425998 rows x 7 columns]"
      ]
     },
     "execution_count": 4,
     "metadata": {},
     "output_type": "execute_result"
    }
   ],
   "source": [
    "data_copy"
   ]
  },
  {
   "cell_type": "markdown",
   "id": "9eb42d77-51f9-414d-b2d4-9b390dd67747",
   "metadata": {},
   "source": [
    "Load and Inspect the Data: Analyze the structure of the dataset.\n",
    "\n",
    "Perform EDA: Generate descriptive statistics and visualizations.\n",
    "\n",
    "Preprocess the Data: Clean and transform the data.\n",
    "\n",
    "Recommendation Model:\n",
    "\n",
    "Build and evaluate both collaborative and content-based filtering models.\n",
    "\n",
    "Present Insights: Summarize the findings."
   ]
  },
  {
   "cell_type": "markdown",
   "id": "fac3fd2e-e600-42be-94d8-35a8410ea5bf",
   "metadata": {},
   "source": [
    "# Dataset Overview\n",
    "The dataset contains 425,998 rows and the following columns:\n",
    "\n",
    "user_id: Unique identifier for users.\n",
    "\n",
    "product_id: Unique identifier for products.\n",
    "\n",
    "product_url: URL of the product.\n",
    "\n",
    "image_url: URL for the product image.\n",
    "\n",
    "price: Product price (currently in a string format with currency symbols).\n",
    "\n",
    "rating: User rating of the product (integer).\n",
    "\n",
    "timestamp: Unix timestamp of the transaction."
   ]
  },
  {
   "cell_type": "markdown",
   "id": "a3e6a7ec-188c-412c-bdcf-2c7e2926e171",
   "metadata": {},
   "source": [
    "# Observations:\n",
    "The price column needs to be converted to numerical values.\n",
    "\n",
    "The timestamp column needs to be converted to a human-readable datetime format.\n",
    "\n",
    "We can focus on user_id, product_id, rating, and price for recommendation modeling."
   ]
  },
  {
   "cell_type": "markdown",
   "id": "995eaec8-8ad6-499c-95a5-badcc2e35507",
   "metadata": {},
   "source": [
    "# Step 1: Data Cleaning\n"
   ]
  },
  {
   "cell_type": "code",
   "execution_count": 5,
   "id": "704501e7-746c-4df6-b5fb-bb84d60e213a",
   "metadata": {},
   "outputs": [],
   "source": [
    "# Step 3: Data Cleaning\n",
    "# Remove currency symbol and convert 'price' to numeric\n",
    "data['price'] = data['price'].str.replace('₹', '', regex=False).str.replace(',', '').astype(float)"
   ]
  },
  {
   "cell_type": "code",
   "execution_count": null,
   "id": "12494b30-e13a-45e2-a2af-2e2a8221cdd1",
   "metadata": {},
   "outputs": [],
   "source": []
  },
  {
   "cell_type": "markdown",
   "id": "e25f6fc8-0c64-4b63-a73b-8e9df2fd8176",
   "metadata": {},
   "source": [
    "I will clean the data by:\n",
    "\n",
    "#Removing the currency symbol from the price column.\n",
    "#Converting timestamp to a readable format.\n",
    "#Checking for duplicates or missing values.\n",
    "#Let’s start cleaning the data. ​​\n",
    "\n",
    "#Data Cleaning Results\n",
    "Missing Values: No missing values in any columns.\n",
    "\n",
    "Duplicates: No duplicate rows detected.\n",
    "\n",
    "Cleaned Columns:\n",
    "\n",
    "price: Converted to a numerical format.\n",
    "\n",
    "timestamp: Converted to a human-readable datetime format."
   ]
  },
  {
   "cell_type": "code",
   "execution_count": 6,
   "id": "b1eb5fdd-33aa-4b6c-b8f6-071dc08211e2",
   "metadata": {},
   "outputs": [],
   "source": [
    "# Convert 'timestamp' to a readable datetime format\n",
    "data['timestamp'] = pd.to_datetime(data['timestamp'], unit='s', errors='coerce')"
   ]
  },
  {
   "cell_type": "code",
   "execution_count": 7,
   "id": "798591b3-5eb9-4f48-bd7d-b1e74a0450fd",
   "metadata": {},
   "outputs": [
    {
     "data": {
      "text/html": [
       "<div>\n",
       "<style scoped>\n",
       "    .dataframe tbody tr th:only-of-type {\n",
       "        vertical-align: middle;\n",
       "    }\n",
       "\n",
       "    .dataframe tbody tr th {\n",
       "        vertical-align: top;\n",
       "    }\n",
       "\n",
       "    .dataframe thead th {\n",
       "        text-align: right;\n",
       "    }\n",
       "</style>\n",
       "<table border=\"1\" class=\"dataframe\">\n",
       "  <thead>\n",
       "    <tr style=\"text-align: right;\">\n",
       "      <th></th>\n",
       "      <th>user_id</th>\n",
       "      <th>product_id</th>\n",
       "      <th>product_url</th>\n",
       "      <th>image_url</th>\n",
       "      <th>price</th>\n",
       "      <th>rating</th>\n",
       "      <th>timestamp</th>\n",
       "    </tr>\n",
       "  </thead>\n",
       "  <tbody>\n",
       "    <tr>\n",
       "      <th>0</th>\n",
       "      <td>0b32cb93b4d1467a895fdd0c0fdcac7d</td>\n",
       "      <td>1xiamj</td>\n",
       "      <td>https://www.meesho.com/alisha-refined-kurtis/p...</td>\n",
       "      <td>https://images.meesho.com/images/products/1167...</td>\n",
       "      <td>293.0</td>\n",
       "      <td>5</td>\n",
       "      <td>2027-07-25 14:43:00</td>\n",
       "    </tr>\n",
       "    <tr>\n",
       "      <th>1</th>\n",
       "      <td>a546c81dcb9346619c00f3632bb39318</td>\n",
       "      <td>1xiamj</td>\n",
       "      <td>https://www.meesho.com/alisha-refined-kurtis/p...</td>\n",
       "      <td>https://images.meesho.com/images/products/1167...</td>\n",
       "      <td>293.0</td>\n",
       "      <td>5</td>\n",
       "      <td>2015-05-16 15:30:09</td>\n",
       "    </tr>\n",
       "    <tr>\n",
       "      <th>2</th>\n",
       "      <td>6f7480ff712d42eb9be53f37641a3bf9</td>\n",
       "      <td>1xiamj</td>\n",
       "      <td>https://www.meesho.com/alisha-refined-kurtis/p...</td>\n",
       "      <td>https://images.meesho.com/images/products/1167...</td>\n",
       "      <td>293.0</td>\n",
       "      <td>5</td>\n",
       "      <td>2016-02-17 08:33:37</td>\n",
       "    </tr>\n",
       "    <tr>\n",
       "      <th>3</th>\n",
       "      <td>cf05abc75bd74b159bc91a76ad4bfbb5</td>\n",
       "      <td>1xiamj</td>\n",
       "      <td>https://www.meesho.com/alisha-refined-kurtis/p...</td>\n",
       "      <td>https://images.meesho.com/images/products/1167...</td>\n",
       "      <td>293.0</td>\n",
       "      <td>5</td>\n",
       "      <td>2014-12-23 11:58:00</td>\n",
       "    </tr>\n",
       "    <tr>\n",
       "      <th>4</th>\n",
       "      <td>893a87b0ef41435cbd40f5065bdff448</td>\n",
       "      <td>1xiamj</td>\n",
       "      <td>https://www.meesho.com/alisha-refined-kurtis/p...</td>\n",
       "      <td>https://images.meesho.com/images/products/1167...</td>\n",
       "      <td>293.0</td>\n",
       "      <td>5</td>\n",
       "      <td>2007-11-25 07:21:58</td>\n",
       "    </tr>\n",
       "    <tr>\n",
       "      <th>...</th>\n",
       "      <td>...</td>\n",
       "      <td>...</td>\n",
       "      <td>...</td>\n",
       "      <td>...</td>\n",
       "      <td>...</td>\n",
       "      <td>...</td>\n",
       "      <td>...</td>\n",
       "    </tr>\n",
       "    <tr>\n",
       "      <th>425993</th>\n",
       "      <td>2c831096d8b542a48f597a7a34084b76</td>\n",
       "      <td>201ubc</td>\n",
       "      <td>https://www.meesho.com/abhisarika-graceful-kur...</td>\n",
       "      <td>https://images.meesho.com/images/products/1210...</td>\n",
       "      <td>565.0</td>\n",
       "      <td>3</td>\n",
       "      <td>2019-01-28 11:32:34</td>\n",
       "    </tr>\n",
       "    <tr>\n",
       "      <th>425994</th>\n",
       "      <td>50c23ada396c432a84c365ade77b46f5</td>\n",
       "      <td>201ubc</td>\n",
       "      <td>https://www.meesho.com/abhisarika-graceful-kur...</td>\n",
       "      <td>https://images.meesho.com/images/products/1210...</td>\n",
       "      <td>565.0</td>\n",
       "      <td>3</td>\n",
       "      <td>2032-08-16 20:28:50</td>\n",
       "    </tr>\n",
       "    <tr>\n",
       "      <th>425995</th>\n",
       "      <td>12754d1b019a4effa4b70b59952cf9c0</td>\n",
       "      <td>201ubc</td>\n",
       "      <td>https://www.meesho.com/abhisarika-graceful-kur...</td>\n",
       "      <td>https://images.meesho.com/images/products/1210...</td>\n",
       "      <td>565.0</td>\n",
       "      <td>3</td>\n",
       "      <td>2018-03-16 17:53:43</td>\n",
       "    </tr>\n",
       "    <tr>\n",
       "      <th>425996</th>\n",
       "      <td>d9904f7f0d644bd6a43c7deeb3964e9f</td>\n",
       "      <td>201ubc</td>\n",
       "      <td>https://www.meesho.com/abhisarika-graceful-kur...</td>\n",
       "      <td>https://images.meesho.com/images/products/1210...</td>\n",
       "      <td>565.0</td>\n",
       "      <td>3</td>\n",
       "      <td>2023-01-11 01:32:53</td>\n",
       "    </tr>\n",
       "    <tr>\n",
       "      <th>425997</th>\n",
       "      <td>df0319c8f64a40f0928e3b9a38418888</td>\n",
       "      <td>201ubc</td>\n",
       "      <td>https://www.meesho.com/abhisarika-graceful-kur...</td>\n",
       "      <td>https://images.meesho.com/images/products/1210...</td>\n",
       "      <td>565.0</td>\n",
       "      <td>2</td>\n",
       "      <td>2015-10-21 11:57:48</td>\n",
       "    </tr>\n",
       "  </tbody>\n",
       "</table>\n",
       "<p>425998 rows × 7 columns</p>\n",
       "</div>"
      ],
      "text/plain": [
       "                                 user_id product_id  \\\n",
       "0       0b32cb93b4d1467a895fdd0c0fdcac7d     1xiamj   \n",
       "1       a546c81dcb9346619c00f3632bb39318     1xiamj   \n",
       "2       6f7480ff712d42eb9be53f37641a3bf9     1xiamj   \n",
       "3       cf05abc75bd74b159bc91a76ad4bfbb5     1xiamj   \n",
       "4       893a87b0ef41435cbd40f5065bdff448     1xiamj   \n",
       "...                                  ...        ...   \n",
       "425993  2c831096d8b542a48f597a7a34084b76     201ubc   \n",
       "425994  50c23ada396c432a84c365ade77b46f5     201ubc   \n",
       "425995  12754d1b019a4effa4b70b59952cf9c0     201ubc   \n",
       "425996  d9904f7f0d644bd6a43c7deeb3964e9f     201ubc   \n",
       "425997  df0319c8f64a40f0928e3b9a38418888     201ubc   \n",
       "\n",
       "                                              product_url  \\\n",
       "0       https://www.meesho.com/alisha-refined-kurtis/p...   \n",
       "1       https://www.meesho.com/alisha-refined-kurtis/p...   \n",
       "2       https://www.meesho.com/alisha-refined-kurtis/p...   \n",
       "3       https://www.meesho.com/alisha-refined-kurtis/p...   \n",
       "4       https://www.meesho.com/alisha-refined-kurtis/p...   \n",
       "...                                                   ...   \n",
       "425993  https://www.meesho.com/abhisarika-graceful-kur...   \n",
       "425994  https://www.meesho.com/abhisarika-graceful-kur...   \n",
       "425995  https://www.meesho.com/abhisarika-graceful-kur...   \n",
       "425996  https://www.meesho.com/abhisarika-graceful-kur...   \n",
       "425997  https://www.meesho.com/abhisarika-graceful-kur...   \n",
       "\n",
       "                                                image_url  price  rating  \\\n",
       "0       https://images.meesho.com/images/products/1167...  293.0       5   \n",
       "1       https://images.meesho.com/images/products/1167...  293.0       5   \n",
       "2       https://images.meesho.com/images/products/1167...  293.0       5   \n",
       "3       https://images.meesho.com/images/products/1167...  293.0       5   \n",
       "4       https://images.meesho.com/images/products/1167...  293.0       5   \n",
       "...                                                   ...    ...     ...   \n",
       "425993  https://images.meesho.com/images/products/1210...  565.0       3   \n",
       "425994  https://images.meesho.com/images/products/1210...  565.0       3   \n",
       "425995  https://images.meesho.com/images/products/1210...  565.0       3   \n",
       "425996  https://images.meesho.com/images/products/1210...  565.0       3   \n",
       "425997  https://images.meesho.com/images/products/1210...  565.0       2   \n",
       "\n",
       "                 timestamp  \n",
       "0      2027-07-25 14:43:00  \n",
       "1      2015-05-16 15:30:09  \n",
       "2      2016-02-17 08:33:37  \n",
       "3      2014-12-23 11:58:00  \n",
       "4      2007-11-25 07:21:58  \n",
       "...                    ...  \n",
       "425993 2019-01-28 11:32:34  \n",
       "425994 2032-08-16 20:28:50  \n",
       "425995 2018-03-16 17:53:43  \n",
       "425996 2023-01-11 01:32:53  \n",
       "425997 2015-10-21 11:57:48  \n",
       "\n",
       "[425998 rows x 7 columns]"
      ]
     },
     "execution_count": 7,
     "metadata": {},
     "output_type": "execute_result"
    }
   ],
   "source": [
    "data"
   ]
  },
  {
   "cell_type": "markdown",
   "id": "1906e0ee-8599-4522-953e-5d65725035a5",
   "metadata": {},
   "source": [
    "# Checking for missing values and duplicates "
   ]
  },
  {
   "cell_type": "code",
   "execution_count": 8,
   "id": "d06a7f54-388f-4028-8348-82190dba86a0",
   "metadata": {},
   "outputs": [
    {
     "name": "stdout",
     "output_type": "stream",
     "text": [
      "Missing Values:\n",
      " user_id        0\n",
      "product_id     0\n",
      "product_url    0\n",
      "image_url      0\n",
      "price          0\n",
      "rating         0\n",
      "timestamp      0\n",
      "dtype: int64\n",
      "\n",
      "Duplicate Rows: 0\n"
     ]
    }
   ],
   "source": [
    "# Step 4: Check for Missing or Duplicate Values\n",
    "print(\"Missing Values:\\n\", data.isnull().sum())\n",
    "print(\"\\nDuplicate Rows:\", data.duplicated().sum())"
   ]
  },
  {
   "cell_type": "markdown",
   "id": "d1ed48e1-0396-489e-8168-8986b6459c9e",
   "metadata": {},
   "source": [
    "# Exploratory Data Analysis (EDA)"
   ]
  },
  {
   "cell_type": "code",
   "execution_count": 9,
   "id": "db2e7cb2-c3d4-44a6-9b3a-816738f7d68c",
   "metadata": {},
   "outputs": [
    {
     "data": {
      "image/png": "[encoded data removed]",
      "text/plain": [
       "<Figure size 1200x600 with 1 Axes>"
      ]
     },
     "metadata": {},
     "output_type": "display_data"
    }
   ],
   "source": [
    "# Step 5: Exploratory Data Analysis (EDA)\n",
    "# Top 10 Most Purchased Products\n",
    "plt.figure(figsize=(12, 6))\n",
    "top_products = data['product_id'].value_counts().head(10)\n",
    "sns.barplot(x=top_products.values, y=top_products.index, palette=\"viridis\")\n",
    "plt.title(\"Top 10 Most Purchased Products\", fontsize=16)\n",
    "plt.xlabel(\"Number of Purchases\", fontsize=12)\n",
    "plt.ylabel(\"Product ID\", fontsize=12)\n",
    "plt.show()"
   ]
  },
  {
   "cell_type": "code",
   "execution_count": 10,
   "id": "dac9c87d-a15d-419e-8e2f-2c889a5d3532",
   "metadata": {},
   "outputs": [
    {
     "data": {
      "image/png": "[encoded data removed]",
      "text/plain": [
       "<Figure size 1200x600 with 1 Axes>"
      ]
     },
     "metadata": {},
     "output_type": "display_data"
    }
   ],
   "source": [
    "# Rating Distribution\n",
    "plt.figure(figsize=(12, 6))\n",
    "sns.histplot(data['rating'], bins=5, kde=False, color=\"skyblue\")\n",
    "plt.title(\"Rating Distribution\", fontsize=16)\n",
    "plt.xlabel(\"Rating\", fontsize=12)\n",
    "plt.ylabel(\"Frequency\", fontsize=12)\n",
    "plt.show()"
   ]
  },
  {
   "cell_type": "code",
   "execution_count": 11,
   "id": "25c2a0d6-ebac-459e-9ca9-5abff47fad3f",
   "metadata": {},
   "outputs": [
    {
     "data": {
      "image/png": "[encoded data removed]",
      "text/plain": [
       "<Figure size 1200x600 with 1 Axes>"
      ]
     },
     "metadata": {},
     "output_type": "display_data"
    }
   ],
   "source": [
    "# Price Distribution\n",
    "plt.figure(figsize=(12, 6))\n",
    "sns.boxplot(x=data['price'], color=\"orange\")\n",
    "plt.title(\"Price Distribution\", fontsize=16)\n",
    "plt.xlabel(\"Price\", fontsize=12)\n",
    "plt.show()"
   ]
  },
  {
   "cell_type": "code",
   "execution_count": 12,
   "id": "46ebbb90-6cdf-49c2-a6e7-7e480c122115",
   "metadata": {},
   "outputs": [
    {
     "data": {
      "image/png": "[encoded data removed]",
      "text/plain": [
       "<Figure size 1200x600 with 1 Axes>"
      ]
     },
     "metadata": {},
     "output_type": "display_data"
    }
   ],
   "source": [
    "# Transactions Over Time\n",
    "plt.figure(figsize=(12, 6))\n",
    "data['year_month'] = data['timestamp'].dt.to_period('M')\n",
    "transactions_over_time = data.groupby('year_month').size()\n",
    "transactions_over_time.plot(kind='line', marker='o', color='green')\n",
    "plt.title(\"Transactions Over Time\", fontsize=16)\n",
    "plt.xlabel(\"Year-Month\", fontsize=12)\n",
    "plt.ylabel(\"Number of Transactions\", fontsize=12)\n",
    "plt.xticks(rotation=45)\n",
    "plt.show()"
   ]
  },
  {
   "cell_type": "markdown",
   "id": "c5365952-ded8-4c7d-8681-65f11849f3f6",
   "metadata": {},
   "source": [
    "# Data Preparation for Recommendation Model"
   ]
  },
  {
   "cell_type": "code",
   "execution_count": 13,
   "id": "bec26208-4ab8-46b4-85a7-e2c8070a9b20",
   "metadata": {},
   "outputs": [],
   "source": [
    "# Step 6: Data Preparation for Recommendation Model\n",
    "# Create a User-Item Interaction Matrix\n",
    "interaction_matrix = data.pivot_table(index='user_id', columns='product_id', values='rating', fill_value=0)"
   ]
  },
  {
   "cell_type": "code",
   "execution_count": 14,
   "id": "130ef277-3f86-4290-a064-62b460c456c6",
   "metadata": {},
   "outputs": [],
   "source": [
    "# Convert the interaction matrix to a sparse matrix for efficiency\n",
    "sparse_matrix = csr_matrix(interaction_matrix.values)"
   ]
  },
  {
   "cell_type": "code",
   "execution_count": 15,
   "id": "fd6d1451-44a6-45e8-91b6-1f9143f6ca39",
   "metadata": {},
   "outputs": [
    {
     "name": "stdout",
     "output_type": "stream",
     "text": [
      "Interaction Matrix Shape: (30000, 946)\n",
      "Non-Zero Interactions: 425998\n"
     ]
    }
   ],
   "source": [
    "# Print Matrix Shape and Non-Zero Elements\n",
    "print(\"Interaction Matrix Shape:\", interaction_matrix.shape)\n",
    "print(\"Non-Zero Interactions:\", sparse_matrix.nnz)"
   ]
  },
  {
   "cell_type": "code",
   "execution_count": null,
   "id": "936a6ef9-a523-4e42-ad04-26469d032c33",
   "metadata": {},
   "outputs": [],
   "source": []
  },
  {
   "cell_type": "markdown",
   "id": "050af868-f484-408a-92f3-1a00abdecaae",
   "metadata": {},
   "source": [
    "# Recommendation Model Code"
   ]
  },
  {
   "cell_type": "raw",
   "id": "9db225a7-6f07-4f8e-a767-defec7d7c08e",
   "metadata": {},
   "source": [
    "# Step 1: Import Necessary Libraries\n",
    "from surprise import SVD, Dataset, Reader\n",
    "from surprise.model_selection import cross_validate, train_test_split\n",
    "from surprise.accuracy import rmse\n",
    "\n",
    "# Step 2: Prepare Data for Surprise Library\n",
    "# Select relevant columns for the recommendation model\n",
    "data_for_model = data[['user_id', 'product_id', 'rating']]\n",
    "\n",
    "# Define a Reader to specify the rating scale (assuming ratings are 1-5)\n",
    "reader = Reader(rating_scale=(1, 5))\n",
    "\n",
    "# Load the data into Surprise's Dataset format\n",
    "dataset = Dataset.load_from_df(data_for_model, reader)\n",
    "\n",
    "# Step 3: Train-Test Split\n",
    "trainset, testset = train_test_split(dataset, test_size=0.25, random_state=42)\n",
    "\n",
    "# Step 4: Build and Train the SVD Model\n",
    "model = SVD()  # Singular Value Decomposition\n",
    "model.fit(trainset)\n",
    "\n",
    "# Step 5: Evaluate the Model\n",
    "predictions = model.test(testset)\n",
    "print(\"\\nModel Evaluation:\")\n",
    "rmse_value = rmse(predictions)\n",
    "\n",
    "# Step 6: Make Recommendations for a Specific User\n",
    "def get_top_n_recommendations(predictions, n=10):\n",
    "    \"\"\"\n",
    "    Return the top N recommendations for each user from the predictions.\n",
    "    \"\"\"\n",
    "    from collections import defaultdict\n",
    "    top_n = defaultdict(list)\n",
    "\n",
    "    # Organize predictions\n",
    "    for uid, iid, true_r, est, _ in predictions:\n",
    "        top_n[uid].append((iid, est))\n",
    "\n",
    "    # Sort and return the top N for each user\n",
    "    for uid, user_ratings in top_n.items():\n",
    "        user_ratings.sort(key=lambda x: x[1], reverse=True)\n",
    "        top_n[uid] = user_ratings[:n]\n",
    "    \n",
    "    return top_n\n",
    "\n",
    "# Generate recommendations\n",
    "top_n = get_top_n_recommendations(predictions, n=5)\n",
    "\n",
    "# Display recommendations for the first user in the dataset\n",
    "user_id = data_for_model['user_id'].iloc[0]\n",
    "print(f\"\\nTop 5 Recommendations for User {user_id}:\")\n",
    "for product_id, score in top_n.get(user_id, []):\n",
    "    print(f\"Product ID: {product_id}, Estimated Rating: {score:.2f}\")\n"
   ]
  },
  {
   "cell_type": "markdown",
   "id": "777668d9-78c9-47c2-b9af-565a6705e8ba",
   "metadata": {},
   "source": [
    "# if not able to install package go with alternatives "
   ]
  },
  {
   "cell_type": "markdown",
   "id": "44059977-9c0f-4c4d-af94-511c0bc7cf53",
   "metadata": {},
   "source": [
    "# Code for Recommendation Model"
   ]
  },
  {
   "cell_type": "markdown",
   "id": "223e0da0-5a0a-4699-aa77-0540d03b881d",
   "metadata": {},
   "source": [
    "# import required libreries"
   ]
  },
  {
   "cell_type": "code",
   "execution_count": 16,
   "id": "359e5775-9a19-4098-9abf-ccc896ae7adf",
   "metadata": {},
   "outputs": [],
   "source": [
    "#import pandas as pd\n",
    "from sklearn.metrics.pairwise import cosine_similarity\n",
    "from sklearn.preprocessing import MinMaxScaler"
   ]
  },
  {
   "cell_type": "code",
   "execution_count": 17,
   "id": "3a754c3a-9a1e-4fef-888c-dcfa033624d0",
   "metadata": {},
   "outputs": [
    {
     "data": {
      "text/html": [
       "<div>\n",
       "<style scoped>\n",
       "    .dataframe tbody tr th:only-of-type {\n",
       "        vertical-align: middle;\n",
       "    }\n",
       "\n",
       "    .dataframe tbody tr th {\n",
       "        vertical-align: top;\n",
       "    }\n",
       "\n",
       "    .dataframe thead th {\n",
       "        text-align: right;\n",
       "    }\n",
       "</style>\n",
       "<table border=\"1\" class=\"dataframe\">\n",
       "  <thead>\n",
       "    <tr style=\"text-align: right;\">\n",
       "      <th>product_id</th>\n",
       "      <th>100jt3</th>\n",
       "      <th>105mbl</th>\n",
       "      <th>108m4r</th>\n",
       "      <th>108o0m</th>\n",
       "      <th>108skr</th>\n",
       "      <th>10abqj</th>\n",
       "      <th>10lkdl</th>\n",
       "      <th>10mrkq</th>\n",
       "      <th>10nue7</th>\n",
       "      <th>10u824</th>\n",
       "      <th>...</th>\n",
       "      <th>z3u2o</th>\n",
       "      <th>z5qzi</th>\n",
       "      <th>z6ckb</th>\n",
       "      <th>z6lgq</th>\n",
       "      <th>z7ayh</th>\n",
       "      <th>z7l3y</th>\n",
       "      <th>ze031</th>\n",
       "      <th>zgxlp</th>\n",
       "      <th>zqe9o</th>\n",
       "      <th>zs19v</th>\n",
       "    </tr>\n",
       "    <tr>\n",
       "      <th>user_id</th>\n",
       "      <th></th>\n",
       "      <th></th>\n",
       "      <th></th>\n",
       "      <th></th>\n",
       "      <th></th>\n",
       "      <th></th>\n",
       "      <th></th>\n",
       "      <th></th>\n",
       "      <th></th>\n",
       "      <th></th>\n",
       "      <th></th>\n",
       "      <th></th>\n",
       "      <th></th>\n",
       "      <th></th>\n",
       "      <th></th>\n",
       "      <th></th>\n",
       "      <th></th>\n",
       "      <th></th>\n",
       "      <th></th>\n",
       "      <th></th>\n",
       "      <th></th>\n",
       "    </tr>\n",
       "  </thead>\n",
       "  <tbody>\n",
       "    <tr>\n",
       "      <th>000309eea4da451792c02dcf044c6da9</th>\n",
       "      <td>0</td>\n",
       "      <td>4</td>\n",
       "      <td>0</td>\n",
       "      <td>0</td>\n",
       "      <td>0</td>\n",
       "      <td>0</td>\n",
       "      <td>0</td>\n",
       "      <td>0</td>\n",
       "      <td>0</td>\n",
       "      <td>0</td>\n",
       "      <td>...</td>\n",
       "      <td>0</td>\n",
       "      <td>0</td>\n",
       "      <td>0</td>\n",
       "      <td>0</td>\n",
       "      <td>0</td>\n",
       "      <td>0</td>\n",
       "      <td>0</td>\n",
       "      <td>0</td>\n",
       "      <td>0</td>\n",
       "      <td>0</td>\n",
       "    </tr>\n",
       "    <tr>\n",
       "      <th>00039769c82740bb8681b29311456292</th>\n",
       "      <td>0</td>\n",
       "      <td>0</td>\n",
       "      <td>0</td>\n",
       "      <td>0</td>\n",
       "      <td>0</td>\n",
       "      <td>0</td>\n",
       "      <td>0</td>\n",
       "      <td>0</td>\n",
       "      <td>0</td>\n",
       "      <td>0</td>\n",
       "      <td>...</td>\n",
       "      <td>0</td>\n",
       "      <td>0</td>\n",
       "      <td>0</td>\n",
       "      <td>0</td>\n",
       "      <td>0</td>\n",
       "      <td>0</td>\n",
       "      <td>0</td>\n",
       "      <td>0</td>\n",
       "      <td>0</td>\n",
       "      <td>0</td>\n",
       "    </tr>\n",
       "    <tr>\n",
       "      <th>000ab7843cc04021b2f660fb9f5a4f0c</th>\n",
       "      <td>0</td>\n",
       "      <td>0</td>\n",
       "      <td>0</td>\n",
       "      <td>0</td>\n",
       "      <td>0</td>\n",
       "      <td>0</td>\n",
       "      <td>0</td>\n",
       "      <td>0</td>\n",
       "      <td>0</td>\n",
       "      <td>0</td>\n",
       "      <td>...</td>\n",
       "      <td>0</td>\n",
       "      <td>0</td>\n",
       "      <td>0</td>\n",
       "      <td>0</td>\n",
       "      <td>0</td>\n",
       "      <td>0</td>\n",
       "      <td>0</td>\n",
       "      <td>0</td>\n",
       "      <td>0</td>\n",
       "      <td>0</td>\n",
       "    </tr>\n",
       "    <tr>\n",
       "      <th>000b43224557420d8eb107c93c74dd29</th>\n",
       "      <td>0</td>\n",
       "      <td>0</td>\n",
       "      <td>0</td>\n",
       "      <td>0</td>\n",
       "      <td>0</td>\n",
       "      <td>0</td>\n",
       "      <td>0</td>\n",
       "      <td>0</td>\n",
       "      <td>0</td>\n",
       "      <td>0</td>\n",
       "      <td>...</td>\n",
       "      <td>0</td>\n",
       "      <td>0</td>\n",
       "      <td>0</td>\n",
       "      <td>0</td>\n",
       "      <td>0</td>\n",
       "      <td>0</td>\n",
       "      <td>0</td>\n",
       "      <td>0</td>\n",
       "      <td>0</td>\n",
       "      <td>0</td>\n",
       "    </tr>\n",
       "    <tr>\n",
       "      <th>000c5704edd84f77bedf68a95c54edeb</th>\n",
       "      <td>0</td>\n",
       "      <td>0</td>\n",
       "      <td>0</td>\n",
       "      <td>0</td>\n",
       "      <td>0</td>\n",
       "      <td>0</td>\n",
       "      <td>0</td>\n",
       "      <td>0</td>\n",
       "      <td>0</td>\n",
       "      <td>0</td>\n",
       "      <td>...</td>\n",
       "      <td>0</td>\n",
       "      <td>0</td>\n",
       "      <td>0</td>\n",
       "      <td>0</td>\n",
       "      <td>0</td>\n",
       "      <td>0</td>\n",
       "      <td>0</td>\n",
       "      <td>0</td>\n",
       "      <td>0</td>\n",
       "      <td>0</td>\n",
       "    </tr>\n",
       "    <tr>\n",
       "      <th>...</th>\n",
       "      <td>...</td>\n",
       "      <td>...</td>\n",
       "      <td>...</td>\n",
       "      <td>...</td>\n",
       "      <td>...</td>\n",
       "      <td>...</td>\n",
       "      <td>...</td>\n",
       "      <td>...</td>\n",
       "      <td>...</td>\n",
       "      <td>...</td>\n",
       "      <td>...</td>\n",
       "      <td>...</td>\n",
       "      <td>...</td>\n",
       "      <td>...</td>\n",
       "      <td>...</td>\n",
       "      <td>...</td>\n",
       "      <td>...</td>\n",
       "      <td>...</td>\n",
       "      <td>...</td>\n",
       "      <td>...</td>\n",
       "      <td>...</td>\n",
       "    </tr>\n",
       "    <tr>\n",
       "      <th>ffec86d6711348a7bc3a320d86c6d597</th>\n",
       "      <td>0</td>\n",
       "      <td>5</td>\n",
       "      <td>0</td>\n",
       "      <td>0</td>\n",
       "      <td>5</td>\n",
       "      <td>0</td>\n",
       "      <td>0</td>\n",
       "      <td>0</td>\n",
       "      <td>0</td>\n",
       "      <td>0</td>\n",
       "      <td>...</td>\n",
       "      <td>0</td>\n",
       "      <td>0</td>\n",
       "      <td>0</td>\n",
       "      <td>0</td>\n",
       "      <td>0</td>\n",
       "      <td>0</td>\n",
       "      <td>0</td>\n",
       "      <td>0</td>\n",
       "      <td>0</td>\n",
       "      <td>0</td>\n",
       "    </tr>\n",
       "    <tr>\n",
       "      <th>ffef7142a8414973851fc85f3be8dfae</th>\n",
       "      <td>0</td>\n",
       "      <td>0</td>\n",
       "      <td>0</td>\n",
       "      <td>0</td>\n",
       "      <td>0</td>\n",
       "      <td>0</td>\n",
       "      <td>0</td>\n",
       "      <td>0</td>\n",
       "      <td>0</td>\n",
       "      <td>0</td>\n",
       "      <td>...</td>\n",
       "      <td>0</td>\n",
       "      <td>0</td>\n",
       "      <td>0</td>\n",
       "      <td>0</td>\n",
       "      <td>0</td>\n",
       "      <td>0</td>\n",
       "      <td>0</td>\n",
       "      <td>0</td>\n",
       "      <td>0</td>\n",
       "      <td>0</td>\n",
       "    </tr>\n",
       "    <tr>\n",
       "      <th>fff19d1af160419cac4de7f303c4e647</th>\n",
       "      <td>0</td>\n",
       "      <td>4</td>\n",
       "      <td>0</td>\n",
       "      <td>0</td>\n",
       "      <td>0</td>\n",
       "      <td>0</td>\n",
       "      <td>0</td>\n",
       "      <td>0</td>\n",
       "      <td>0</td>\n",
       "      <td>0</td>\n",
       "      <td>...</td>\n",
       "      <td>0</td>\n",
       "      <td>0</td>\n",
       "      <td>0</td>\n",
       "      <td>0</td>\n",
       "      <td>0</td>\n",
       "      <td>0</td>\n",
       "      <td>0</td>\n",
       "      <td>0</td>\n",
       "      <td>0</td>\n",
       "      <td>0</td>\n",
       "    </tr>\n",
       "    <tr>\n",
       "      <th>fffc8d2971bb4b998f5d9720ce49f51f</th>\n",
       "      <td>4</td>\n",
       "      <td>0</td>\n",
       "      <td>0</td>\n",
       "      <td>0</td>\n",
       "      <td>0</td>\n",
       "      <td>0</td>\n",
       "      <td>0</td>\n",
       "      <td>0</td>\n",
       "      <td>0</td>\n",
       "      <td>0</td>\n",
       "      <td>...</td>\n",
       "      <td>0</td>\n",
       "      <td>0</td>\n",
       "      <td>0</td>\n",
       "      <td>0</td>\n",
       "      <td>0</td>\n",
       "      <td>0</td>\n",
       "      <td>0</td>\n",
       "      <td>0</td>\n",
       "      <td>4</td>\n",
       "      <td>0</td>\n",
       "    </tr>\n",
       "    <tr>\n",
       "      <th>fffcdbe44df24dcbb816aaa41f0d0830</th>\n",
       "      <td>0</td>\n",
       "      <td>0</td>\n",
       "      <td>0</td>\n",
       "      <td>0</td>\n",
       "      <td>0</td>\n",
       "      <td>0</td>\n",
       "      <td>0</td>\n",
       "      <td>0</td>\n",
       "      <td>0</td>\n",
       "      <td>0</td>\n",
       "      <td>...</td>\n",
       "      <td>0</td>\n",
       "      <td>4</td>\n",
       "      <td>0</td>\n",
       "      <td>0</td>\n",
       "      <td>0</td>\n",
       "      <td>0</td>\n",
       "      <td>0</td>\n",
       "      <td>0</td>\n",
       "      <td>0</td>\n",
       "      <td>0</td>\n",
       "    </tr>\n",
       "  </tbody>\n",
       "</table>\n",
       "<p>30000 rows × 946 columns</p>\n",
       "</div>"
      ],
      "text/plain": [
       "product_id                        100jt3  105mbl  108m4r  108o0m  108skr  \\\n",
       "user_id                                                                    \n",
       "000309eea4da451792c02dcf044c6da9       0       4       0       0       0   \n",
       "00039769c82740bb8681b29311456292       0       0       0       0       0   \n",
       "000ab7843cc04021b2f660fb9f5a4f0c       0       0       0       0       0   \n",
       "000b43224557420d8eb107c93c74dd29       0       0       0       0       0   \n",
       "000c5704edd84f77bedf68a95c54edeb       0       0       0       0       0   \n",
       "...                                  ...     ...     ...     ...     ...   \n",
       "ffec86d6711348a7bc3a320d86c6d597       0       5       0       0       5   \n",
       "ffef7142a8414973851fc85f3be8dfae       0       0       0       0       0   \n",
       "fff19d1af160419cac4de7f303c4e647       0       4       0       0       0   \n",
       "fffc8d2971bb4b998f5d9720ce49f51f       4       0       0       0       0   \n",
       "fffcdbe44df24dcbb816aaa41f0d0830       0       0       0       0       0   \n",
       "\n",
       "product_id                        10abqj  10lkdl  10mrkq  10nue7  10u824  ...  \\\n",
       "user_id                                                                   ...   \n",
       "000309eea4da451792c02dcf044c6da9       0       0       0       0       0  ...   \n",
       "00039769c82740bb8681b29311456292       0       0       0       0       0  ...   \n",
       "000ab7843cc04021b2f660fb9f5a4f0c       0       0       0       0       0  ...   \n",
       "000b43224557420d8eb107c93c74dd29       0       0       0       0       0  ...   \n",
       "000c5704edd84f77bedf68a95c54edeb       0       0       0       0       0  ...   \n",
       "...                                  ...     ...     ...     ...     ...  ...   \n",
       "ffec86d6711348a7bc3a320d86c6d597       0       0       0       0       0  ...   \n",
       "ffef7142a8414973851fc85f3be8dfae       0       0       0       0       0  ...   \n",
       "fff19d1af160419cac4de7f303c4e647       0       0       0       0       0  ...   \n",
       "fffc8d2971bb4b998f5d9720ce49f51f       0       0       0       0       0  ...   \n",
       "fffcdbe44df24dcbb816aaa41f0d0830       0       0       0       0       0  ...   \n",
       "\n",
       "product_id                        z3u2o  z5qzi  z6ckb  z6lgq  z7ayh  z7l3y  \\\n",
       "user_id                                                                      \n",
       "000309eea4da451792c02dcf044c6da9      0      0      0      0      0      0   \n",
       "00039769c82740bb8681b29311456292      0      0      0      0      0      0   \n",
       "000ab7843cc04021b2f660fb9f5a4f0c      0      0      0      0      0      0   \n",
       "000b43224557420d8eb107c93c74dd29      0      0      0      0      0      0   \n",
       "000c5704edd84f77bedf68a95c54edeb      0      0      0      0      0      0   \n",
       "...                                 ...    ...    ...    ...    ...    ...   \n",
       "ffec86d6711348a7bc3a320d86c6d597      0      0      0      0      0      0   \n",
       "ffef7142a8414973851fc85f3be8dfae      0      0      0      0      0      0   \n",
       "fff19d1af160419cac4de7f303c4e647      0      0      0      0      0      0   \n",
       "fffc8d2971bb4b998f5d9720ce49f51f      0      0      0      0      0      0   \n",
       "fffcdbe44df24dcbb816aaa41f0d0830      0      4      0      0      0      0   \n",
       "\n",
       "product_id                        ze031  zgxlp  zqe9o  zs19v  \n",
       "user_id                                                       \n",
       "000309eea4da451792c02dcf044c6da9      0      0      0      0  \n",
       "00039769c82740bb8681b29311456292      0      0      0      0  \n",
       "000ab7843cc04021b2f660fb9f5a4f0c      0      0      0      0  \n",
       "000b43224557420d8eb107c93c74dd29      0      0      0      0  \n",
       "000c5704edd84f77bedf68a95c54edeb      0      0      0      0  \n",
       "...                                 ...    ...    ...    ...  \n",
       "ffec86d6711348a7bc3a320d86c6d597      0      0      0      0  \n",
       "ffef7142a8414973851fc85f3be8dfae      0      0      0      0  \n",
       "fff19d1af160419cac4de7f303c4e647      0      0      0      0  \n",
       "fffc8d2971bb4b998f5d9720ce49f51f      0      0      4      0  \n",
       "fffcdbe44df24dcbb816aaa41f0d0830      0      0      0      0  \n",
       "\n",
       "[30000 rows x 946 columns]"
      ]
     },
     "execution_count": 17,
     "metadata": {},
     "output_type": "execute_result"
    }
   ],
   "source": [
    "interaction_matrix"
   ]
  },
  {
   "cell_type": "markdown",
   "id": "7f533259-fdb8-460c-aba7-4029610b68e6",
   "metadata": {},
   "source": [
    "# Step 1: Create User-Item Interaction Matrix"
   ]
  },
  {
   "cell_type": "code",
   "execution_count": null,
   "id": "af85dfba-a134-45fa-a7b8-8b09309f7151",
   "metadata": {},
   "outputs": [],
   "source": [
    "# Step 1: Create User-Item Interaction Matrix\n",
    "#Already created no need to create once\n",
    "#interaction_matrix = data.pivot_table(index='user_id', columns='product_id', values='rating', fill_value=0)"
   ]
  },
  {
   "cell_type": "markdown",
   "id": "a8d7d043-9b60-4130-b858-98836edf4b4f",
   "metadata": {},
   "source": [
    "# Step 2: Calculate Cosine Similarity for Users"
   ]
  },
  {
   "cell_type": "code",
   "execution_count": 18,
   "id": "4ab418d9-1d49-4264-b13e-ee1a8c0d3223",
   "metadata": {},
   "outputs": [],
   "source": [
    "# Step 2: Calculate Cosine Similarity for Users\n",
    "user_similarity = cosine_similarity(interaction_matrix)\n",
    "user_similarity_df = pd.DataFrame(user_similarity, index=interaction_matrix.index, columns=interaction_matrix.index)"
   ]
  },
  {
   "cell_type": "markdown",
   "id": "6c3fc453-7362-4b84-b43b-c9dedf9268c9",
   "metadata": {},
   "source": [
    "# Step 3: Recommend Products for a User"
   ]
  },
  {
   "cell_type": "code",
   "execution_count": 19,
   "id": "170a922d-1ab9-49f8-854a-a577942a0357",
   "metadata": {},
   "outputs": [],
   "source": [
    "# Step 3: Recommend Products for a User\n",
    "def recommend_products(user_id, interaction_matrix, user_similarity_df, n_recommendations=5):\n",
    "    \"\"\"\n",
    "    Recommend top N products for a given user based on user similarity.\n",
    "    \"\"\"\n",
    "    if user_id not in interaction_matrix.index:\n",
    "        return f\"User {user_id} not found in the dataset.\"\n",
    "    \n",
    "    # Get user's interaction data\n",
    "    user_ratings = interaction_matrix.loc[user_id]\n",
    "    \n",
    "    # Calculate weighted scores for all products based on similar users\n",
    "    similar_users = user_similarity_df[user_id]\n",
    "    weighted_scores = interaction_matrix.T.dot(similar_users).div(similar_users.sum())\n",
    "    \n",
    "    # Exclude already purchased products\n",
    "    already_purchased = user_ratings[user_ratings > 0].index\n",
    "    recommendations = weighted_scores.drop(already_purchased).sort_values(ascending=False).head(n_recommendations)\n",
    "    \n",
    "    return recommendations"
   ]
  },
  {
   "cell_type": "markdown",
   "id": "423a19a4-dd4c-482f-87e9-8aa61fa2d731",
   "metadata": {},
   "source": [
    "# Step 4: Generate Recommendations for a Specific User"
   ]
  },
  {
   "cell_type": "code",
   "execution_count": 20,
   "id": "af0259e1-8778-4774-9a86-790590910998",
   "metadata": {},
   "outputs": [],
   "source": [
    "# Step 4: Generate Recommendations for a Specific User\n",
    "sample_user_id = interaction_matrix.index[0]  # Example: first user in the dataset\n",
    "top_recommendations = recommend_products(sample_user_id, interaction_matrix, user_similarity_df)"
   ]
  },
  {
   "cell_type": "code",
   "execution_count": 21,
   "id": "87b7cd61-d0e7-4b1a-baf8-1c04b94f5c66",
   "metadata": {},
   "outputs": [
    {
     "name": "stdout",
     "output_type": "stream",
     "text": [
      "\n",
      "Top Recommendations for User 000309eea4da451792c02dcf044c6da9:\n",
      "\n",
      "product_id\n",
      "1c1wnf    2.388412\n",
      "77fni     1.759739\n",
      "xpuga     1.214652\n",
      "8d8ha     1.163906\n",
      "1xiamj    1.125336\n",
      "dtype: float64\n"
     ]
    }
   ],
   "source": [
    "# Display the recommendations\n",
    "print(f\"\\nTop Recommendations for User {sample_user_id}:\\n\")\n",
    "print(top_recommendations)"
   ]
  },
  {
   "cell_type": "markdown",
   "id": "8cf51b59-c9b1-4a83-91c0-276e23d78af5",
   "metadata": {},
   "source": [
    "# checking the recomendation model for another user "
   ]
  },
  {
   "cell_type": "code",
   "execution_count": 22,
   "id": "d2b9c452-e94e-447b-b87c-838282bceec0",
   "metadata": {},
   "outputs": [],
   "source": [
    "sample_user_id_2 = interaction_matrix.index[2]  # Example: first user in the dataset\n",
    "Top_recommendations = recommend_products(sample_user_id, interaction_matrix, user_similarity_df)"
   ]
  },
  {
   "cell_type": "code",
   "execution_count": 23,
   "id": "1a1486ec-b43d-4a6d-a44c-8bafd5a46301",
   "metadata": {},
   "outputs": [
    {
     "name": "stdout",
     "output_type": "stream",
     "text": [
      "\n",
      "Top Recommendations for User 000ab7843cc04021b2f660fb9f5a4f0c:\n",
      "\n",
      "product_id\n",
      "1c1wnf    2.388412\n",
      "77fni     1.759739\n",
      "xpuga     1.214652\n",
      "8d8ha     1.163906\n",
      "1xiamj    1.125336\n",
      "dtype: float64\n"
     ]
    }
   ],
   "source": [
    "# Display the recommendations\n",
    "print(f\"\\nTop Recommendations for User {sample_user_id_2}:\\n\")\n",
    "print(Top_recommendations)"
   ]
  },
  {
   "cell_type": "markdown",
   "id": "ae4e9677-782d-4916-bbd1-ae11da4180ee",
   "metadata": {},
   "source": [
    "# Explanation of the Code\n",
    "User-Item Interaction Matrix:\n",
    "\n",
    "Each row represents a user, and each column represents a product.\n",
    "The matrix is filled with ratings or 0 if no rating is available.\n",
    "# Cosine Similarity:\n",
    "Measures the similarity between users based on their interaction history.\n",
    "# Weighted Scores:\n",
    "Recommendations are scored based on the weighted average of ratings by similar users.\n",
    "# Excluding Purchased Products:\n",
    "Products already rated by the user are excluded from the recommendations.\n",
    "# Top-N Recommendations:\n",
    "The function returns the top n products for the specified user.\n",
    "Results\n",
    "# When you run this code:\n",
    "\n",
    "It calculates personalized recommendations for the given user.\n",
    "You can adjust the n_recommendations parameter to get more or fewer recommendations.\n"
   ]
  },
  {
   "cell_type": "markdown",
   "id": "f07c43d7-c138-46f1-a96a-231cd3a55647",
   "metadata": {},
   "source": [
    "# interactive model"
   ]
  },
  {
   "cell_type": "code",
   "execution_count": null,
   "id": "e2206990-dd07-426b-8d20-0131f80fa6b1",
   "metadata": {},
   "outputs": [],
   "source": []
  },
  {
   "cell_type": "code",
   "execution_count": 24,
   "id": "e2b37ce4-b205-4e9a-b7f0-ddc3b0652bdb",
   "metadata": {},
   "outputs": [],
   "source": [
    "from ipywidgets import widgets, VBox\n",
    "from IPython.display import display"
   ]
  },
  {
   "cell_type": "code",
   "execution_count": 25,
   "id": "0e3405ba-284a-4811-ae10-6e359be516a7",
   "metadata": {},
   "outputs": [],
   "source": [
    "# Textbox for User Input\n",
    "user_id_widget = widgets.Text(\n",
    "    placeholder='Enter User ID',\n",
    "    description='User ID:',\n",
    "    style={'description_width': 'initial'},\n",
    ")"
   ]
  },
  {
   "cell_type": "code",
   "execution_count": 26,
   "id": "07831695-f9ba-4652-8832-d86115304c7d",
   "metadata": {},
   "outputs": [],
   "source": [
    "# Button to Trigger Recommendations\n",
    "button = widgets.Button(\n",
    "    description='Get Recommendations',\n",
    "    button_style='success',  # 'success', 'info', 'warning', 'danger' for styling\n",
    ")"
   ]
  },
  {
   "cell_type": "code",
   "execution_count": 27,
   "id": "317ff99a-ff7c-4477-93b3-d80a2b3dc1d2",
   "metadata": {},
   "outputs": [],
   "source": [
    "# Output Widget for Displaying Results\n",
    "output = widgets.Output()"
   ]
  },
  {
   "cell_type": "code",
   "execution_count": 28,
   "id": "d9e8a036-d168-42f0-983c-b8b6b989874e",
   "metadata": {},
   "outputs": [],
   "source": [
    "# Function to Handle Button Click\n",
    "def on_button_click(change):\n",
    "    with output:\n",
    "        output.clear_output()  # Clear previous output\n",
    "        user_id = user_id_widget.value.strip()  # Get input from textbox\n",
    "        if user_id:\n",
    "            try:\n",
    "                recommendations = recommend_products(user_id, interaction_matrix, user_similarity_df, n_recommendations=5)\n",
    "                print(f\"\\nTop Recommendations for User {user_id}:\\n\")\n",
    "                if isinstance(recommendations, str):  # If user not found\n",
    "                    print(recommendations)\n",
    "                else:\n",
    "                    display(recommendations)\n",
    "            except Exception as e:\n",
    "                print(f\"Error: {e}\")\n",
    "        else:\n",
    "            print(\"Please enter a valid User ID.\")"
   ]
  },
  {
   "cell_type": "code",
   "execution_count": 29,
   "id": "b3eba0b1-1f8a-43e6-88f9-1aca955fffda",
   "metadata": {},
   "outputs": [],
   "source": [
    "# Link Button Click to Function\n",
    "button.on_click(on_button_click)"
   ]
  },
  {
   "cell_type": "code",
   "execution_count": 30,
   "id": "3ee7ddc7-9138-40c7-b5a0-c315eecce0a5",
   "metadata": {
    "scrolled": true
   },
   "outputs": [
    {
     "data": {
      "application/vnd.jupyter.widget-view+json": {
       "model_id": "ef925402e033474caf4ce7e2adf3b01b",
       "version_major": 2,
       "version_minor": 0
      },
      "text/plain": [
       "VBox(children=(Text(value='', description='User ID:', placeholder='Enter User ID', style=TextStyle(description…"
      ]
     },
     "metadata": {},
     "output_type": "display_data"
    }
   ],
   "source": [
    "# Display the Interface\n",
    "display(VBox([user_id_widget, button, output]))"
   ]
  },
  {
   "cell_type": "markdown",
   "id": "b682259b-b34d-461d-bd7b-c81dc99aef47",
   "metadata": {},
   "source": [
    "# We can see successfully the recomendations are predicted by our model even in  a interactive way "
   ]
  },
  {
   "cell_type": "code",
   "execution_count": 31,
   "id": "b17b6367-2a6b-4c34-b9f1-b8a48da58f3b",
   "metadata": {},
   "outputs": [
    {
     "data": {
      "text/html": [
       "<div>\n",
       "<style scoped>\n",
       "    .dataframe tbody tr th:only-of-type {\n",
       "        vertical-align: middle;\n",
       "    }\n",
       "\n",
       "    .dataframe tbody tr th {\n",
       "        vertical-align: top;\n",
       "    }\n",
       "\n",
       "    .dataframe thead th {\n",
       "        text-align: right;\n",
       "    }\n",
       "</style>\n",
       "<table border=\"1\" class=\"dataframe\">\n",
       "  <thead>\n",
       "    <tr style=\"text-align: right;\">\n",
       "      <th></th>\n",
       "      <th>user_id</th>\n",
       "      <th>product_id</th>\n",
       "      <th>product_url</th>\n",
       "      <th>image_url</th>\n",
       "      <th>price</th>\n",
       "      <th>rating</th>\n",
       "      <th>timestamp</th>\n",
       "      <th>year_month</th>\n",
       "    </tr>\n",
       "  </thead>\n",
       "  <tbody>\n",
       "    <tr>\n",
       "      <th>0</th>\n",
       "      <td>0b32cb93b4d1467a895fdd0c0fdcac7d</td>\n",
       "      <td>1xiamj</td>\n",
       "      <td>https://www.meesho.com/alisha-refined-kurtis/p...</td>\n",
       "      <td>https://images.meesho.com/images/products/1167...</td>\n",
       "      <td>293.0</td>\n",
       "      <td>5</td>\n",
       "      <td>2027-07-25 14:43:00</td>\n",
       "      <td>2027-07</td>\n",
       "    </tr>\n",
       "    <tr>\n",
       "      <th>1</th>\n",
       "      <td>a546c81dcb9346619c00f3632bb39318</td>\n",
       "      <td>1xiamj</td>\n",
       "      <td>https://www.meesho.com/alisha-refined-kurtis/p...</td>\n",
       "      <td>https://images.meesho.com/images/products/1167...</td>\n",
       "      <td>293.0</td>\n",
       "      <td>5</td>\n",
       "      <td>2015-05-16 15:30:09</td>\n",
       "      <td>2015-05</td>\n",
       "    </tr>\n",
       "    <tr>\n",
       "      <th>2</th>\n",
       "      <td>6f7480ff712d42eb9be53f37641a3bf9</td>\n",
       "      <td>1xiamj</td>\n",
       "      <td>https://www.meesho.com/alisha-refined-kurtis/p...</td>\n",
       "      <td>https://images.meesho.com/images/products/1167...</td>\n",
       "      <td>293.0</td>\n",
       "      <td>5</td>\n",
       "      <td>2016-02-17 08:33:37</td>\n",
       "      <td>2016-02</td>\n",
       "    </tr>\n",
       "    <tr>\n",
       "      <th>3</th>\n",
       "      <td>cf05abc75bd74b159bc91a76ad4bfbb5</td>\n",
       "      <td>1xiamj</td>\n",
       "      <td>https://www.meesho.com/alisha-refined-kurtis/p...</td>\n",
       "      <td>https://images.meesho.com/images/products/1167...</td>\n",
       "      <td>293.0</td>\n",
       "      <td>5</td>\n",
       "      <td>2014-12-23 11:58:00</td>\n",
       "      <td>2014-12</td>\n",
       "    </tr>\n",
       "    <tr>\n",
       "      <th>4</th>\n",
       "      <td>893a87b0ef41435cbd40f5065bdff448</td>\n",
       "      <td>1xiamj</td>\n",
       "      <td>https://www.meesho.com/alisha-refined-kurtis/p...</td>\n",
       "      <td>https://images.meesho.com/images/products/1167...</td>\n",
       "      <td>293.0</td>\n",
       "      <td>5</td>\n",
       "      <td>2007-11-25 07:21:58</td>\n",
       "      <td>2007-11</td>\n",
       "    </tr>\n",
       "    <tr>\n",
       "      <th>...</th>\n",
       "      <td>...</td>\n",
       "      <td>...</td>\n",
       "      <td>...</td>\n",
       "      <td>...</td>\n",
       "      <td>...</td>\n",
       "      <td>...</td>\n",
       "      <td>...</td>\n",
       "      <td>...</td>\n",
       "    </tr>\n",
       "    <tr>\n",
       "      <th>425993</th>\n",
       "      <td>2c831096d8b542a48f597a7a34084b76</td>\n",
       "      <td>201ubc</td>\n",
       "      <td>https://www.meesho.com/abhisarika-graceful-kur...</td>\n",
       "      <td>https://images.meesho.com/images/products/1210...</td>\n",
       "      <td>565.0</td>\n",
       "      <td>3</td>\n",
       "      <td>2019-01-28 11:32:34</td>\n",
       "      <td>2019-01</td>\n",
       "    </tr>\n",
       "    <tr>\n",
       "      <th>425994</th>\n",
       "      <td>50c23ada396c432a84c365ade77b46f5</td>\n",
       "      <td>201ubc</td>\n",
       "      <td>https://www.meesho.com/abhisarika-graceful-kur...</td>\n",
       "      <td>https://images.meesho.com/images/products/1210...</td>\n",
       "      <td>565.0</td>\n",
       "      <td>3</td>\n",
       "      <td>2032-08-16 20:28:50</td>\n",
       "      <td>2032-08</td>\n",
       "    </tr>\n",
       "    <tr>\n",
       "      <th>425995</th>\n",
       "      <td>12754d1b019a4effa4b70b59952cf9c0</td>\n",
       "      <td>201ubc</td>\n",
       "      <td>https://www.meesho.com/abhisarika-graceful-kur...</td>\n",
       "      <td>https://images.meesho.com/images/products/1210...</td>\n",
       "      <td>565.0</td>\n",
       "      <td>3</td>\n",
       "      <td>2018-03-16 17:53:43</td>\n",
       "      <td>2018-03</td>\n",
       "    </tr>\n",
       "    <tr>\n",
       "      <th>425996</th>\n",
       "      <td>d9904f7f0d644bd6a43c7deeb3964e9f</td>\n",
       "      <td>201ubc</td>\n",
       "      <td>https://www.meesho.com/abhisarika-graceful-kur...</td>\n",
       "      <td>https://images.meesho.com/images/products/1210...</td>\n",
       "      <td>565.0</td>\n",
       "      <td>3</td>\n",
       "      <td>2023-01-11 01:32:53</td>\n",
       "      <td>2023-01</td>\n",
       "    </tr>\n",
       "    <tr>\n",
       "      <th>425997</th>\n",
       "      <td>df0319c8f64a40f0928e3b9a38418888</td>\n",
       "      <td>201ubc</td>\n",
       "      <td>https://www.meesho.com/abhisarika-graceful-kur...</td>\n",
       "      <td>https://images.meesho.com/images/products/1210...</td>\n",
       "      <td>565.0</td>\n",
       "      <td>2</td>\n",
       "      <td>2015-10-21 11:57:48</td>\n",
       "      <td>2015-10</td>\n",
       "    </tr>\n",
       "  </tbody>\n",
       "</table>\n",
       "<p>425998 rows × 8 columns</p>\n",
       "</div>"
      ],
      "text/plain": [
       "                                 user_id product_id  \\\n",
       "0       0b32cb93b4d1467a895fdd0c0fdcac7d     1xiamj   \n",
       "1       a546c81dcb9346619c00f3632bb39318     1xiamj   \n",
       "2       6f7480ff712d42eb9be53f37641a3bf9     1xiamj   \n",
       "3       cf05abc75bd74b159bc91a76ad4bfbb5     1xiamj   \n",
       "4       893a87b0ef41435cbd40f5065bdff448     1xiamj   \n",
       "...                                  ...        ...   \n",
       "425993  2c831096d8b542a48f597a7a34084b76     201ubc   \n",
       "425994  50c23ada396c432a84c365ade77b46f5     201ubc   \n",
       "425995  12754d1b019a4effa4b70b59952cf9c0     201ubc   \n",
       "425996  d9904f7f0d644bd6a43c7deeb3964e9f     201ubc   \n",
       "425997  df0319c8f64a40f0928e3b9a38418888     201ubc   \n",
       "\n",
       "                                              product_url  \\\n",
       "0       https://www.meesho.com/alisha-refined-kurtis/p...   \n",
       "1       https://www.meesho.com/alisha-refined-kurtis/p...   \n",
       "2       https://www.meesho.com/alisha-refined-kurtis/p...   \n",
       "3       https://www.meesho.com/alisha-refined-kurtis/p...   \n",
       "4       https://www.meesho.com/alisha-refined-kurtis/p...   \n",
       "...                                                   ...   \n",
       "425993  https://www.meesho.com/abhisarika-graceful-kur...   \n",
       "425994  https://www.meesho.com/abhisarika-graceful-kur...   \n",
       "425995  https://www.meesho.com/abhisarika-graceful-kur...   \n",
       "425996  https://www.meesho.com/abhisarika-graceful-kur...   \n",
       "425997  https://www.meesho.com/abhisarika-graceful-kur...   \n",
       "\n",
       "                                                image_url  price  rating  \\\n",
       "0       https://images.meesho.com/images/products/1167...  293.0       5   \n",
       "1       https://images.meesho.com/images/products/1167...  293.0       5   \n",
       "2       https://images.meesho.com/images/products/1167...  293.0       5   \n",
       "3       https://images.meesho.com/images/products/1167...  293.0       5   \n",
       "4       https://images.meesho.com/images/products/1167...  293.0       5   \n",
       "...                                                   ...    ...     ...   \n",
       "425993  https://images.meesho.com/images/products/1210...  565.0       3   \n",
       "425994  https://images.meesho.com/images/products/1210...  565.0       3   \n",
       "425995  https://images.meesho.com/images/products/1210...  565.0       3   \n",
       "425996  https://images.meesho.com/images/products/1210...  565.0       3   \n",
       "425997  https://images.meesho.com/images/products/1210...  565.0       2   \n",
       "\n",
       "                 timestamp year_month  \n",
       "0      2027-07-25 14:43:00    2027-07  \n",
       "1      2015-05-16 15:30:09    2015-05  \n",
       "2      2016-02-17 08:33:37    2016-02  \n",
       "3      2014-12-23 11:58:00    2014-12  \n",
       "4      2007-11-25 07:21:58    2007-11  \n",
       "...                    ...        ...  \n",
       "425993 2019-01-28 11:32:34    2019-01  \n",
       "425994 2032-08-16 20:28:50    2032-08  \n",
       "425995 2018-03-16 17:53:43    2018-03  \n",
       "425996 2023-01-11 01:32:53    2023-01  \n",
       "425997 2015-10-21 11:57:48    2015-10  \n",
       "\n",
       "[425998 rows x 8 columns]"
      ]
     },
     "execution_count": 31,
     "metadata": {},
     "output_type": "execute_result"
    }
   ],
   "source": [
    "data_copy"
   ]
  },
  {
   "cell_type": "markdown",
   "id": "56834b42-a0e6-4419-89bf-e23a1a2244bf",
   "metadata": {},
   "source": [
    "# deep dive in to data and find the tresure "
   ]
  },
  {
   "cell_type": "markdown",
   "id": "2dd13b73-2b47-4c29-945c-26f9aafbbe4f",
   "metadata": {},
   "source": [
    "# 1. Feature Engineering"
   ]
  },
  {
   "cell_type": "markdown",
   "id": "67d48e6d-e343-494b-8d17-0144ff4e9484",
   "metadata": {},
   "source": [
    "Enhance the dataset by creating new features:\n",
    "\n",
    "Purchase Frequency: Calculate how often each product is purchased.\n",
    "\n",
    "User Activity: Determine the number of transactions or ratings per user.\n",
    "    \n",
    "Average Product Rating: Compute the average rating for each product.\n",
    "                                                  \n",
    "Recency of Purchases: Add a feature to indicate how recent a purchase or rating was (e.g., days since last transaction).\n",
    "                                                  \n",
    "Price Categories: Segment products into categories based on price ranges"
   ]
  },
  {
   "cell_type": "code",
   "execution_count": null,
   "id": "22114491-e6c9-415f-9dcf-175cc9f0e349",
   "metadata": {},
   "outputs": [],
   "source": [
    "# Purchase frequency by product\n",
    "product_frequency = data['product_id'].value_counts().reset_index()\n",
    "product_frequency.columns = ['product_id', 'purchase_count']\n",
    "print(product_frequency.head())\n",
    "\n",
    "\n"
   ]
  },
  {
   "cell_type": "code",
   "execution_count": null,
   "id": "51028be2-b845-4990-9068-1e202ee46e0f",
   "metadata": {},
   "outputs": [],
   "source": [
    "# Average rating per product\n",
    "avg_rating = data.groupby('product_id')['rating'].mean().reset_index()\n",
    "avg_rating.columns = ['product_id', 'average_rating']\n",
    "print(avg_rating.head())"
   ]
  },
  {
   "cell_type": "markdown",
   "id": "7c0d3c06-6944-4e39-9b2d-02162f015e4b",
   "metadata": {},
   "source": [
    "# Top rated producct"
   ]
  },
  {
   "cell_type": "code",
   "execution_count": null,
   "id": "c2048b22-256d-4ef7-8860-1e80258461eb",
   "metadata": {},
   "outputs": [],
   "source": [
    "# Calculate the average rating per product\n",
    "avg_rating = data.groupby('product_id')['rating'].mean().reset_index()\n",
    "avg_rating.columns = ['product_id', 'average_rating']\n",
    "\n",
    "# Sort by average_rating in descending order\n",
    "avg_rating = avg_rating.sort_values(by='average_rating', ascending=False)\n",
    "\n",
    "# Display the top rows\n",
    "print(avg_rating.head(10))\n"
   ]
  },
  {
   "cell_type": "code",
   "execution_count": null,
   "id": "112f95da-da4e-467a-9b1a-3bcf25c502e4",
   "metadata": {},
   "outputs": [],
   "source": []
  },
  {
   "cell_type": "markdown",
   "id": "316426f5-2cf7-4cb2-bb4b-e904eb92d7c0",
   "metadata": {},
   "source": [
    "# 2. Content-Based Filtering"
   ]
  },
  {
   "cell_type": "markdown",
   "id": "718e8c2b-b7e4-4739-8b21-22645531d4e4",
   "metadata": {},
   "source": [
    "Use product features (e.g., categories, price) to recommend similar items based on what the user has purchased or rated highly.\n",
    "\n",
    "Steps:\n",
    "\n",
    "Create vectors for each product using its features.\n",
    "    \n",
    "Use similarity metrics (e.g., cosine similarity) to find similar products."
   ]
  },
  {
   "cell_type": "code",
   "execution_count": null,
   "id": "45995005-6ea6-488b-9cdb-3f5985b5b562",
   "metadata": {},
   "outputs": [],
   "source": [
    "#from sklearn.metrics.pairwise import cosine_similarity\n",
    "#from sklearn.preprocessing import MinMaxScaler\n",
    "\n",
    "# Normalize price and rating\n",
    "scaler = MinMaxScaler()\n",
    "product_features = data[['price', 'rating']].drop_duplicates()\n",
    "product_features_scaled = scaler.fit_transform(product_features)\n",
    "\n"
   ]
  },
  {
   "cell_type": "code",
   "execution_count": null,
   "id": "4c760271-50b4-45f8-927b-5474cba99eb7",
   "metadata": {},
   "outputs": [],
   "source": [
    "# Calculate similarity\n",
    "similarity_matrix = cosine_similarity(product_features_scaled)\n",
    "\n"
   ]
  },
  {
   "cell_type": "code",
   "execution_count": null,
   "id": "eab22114-2e42-4031-8858-cd5bed2bc3a6",
   "metadata": {},
   "outputs": [],
   "source": [
    "# Recommend products similar to a given product\n",
    "product_id = '1xiamj'  # Example product ID\n",
    "product_idx = data[data['product_id'] == product_id].index[0]\n",
    "similar_products = similarity_matrix[product_idx].argsort()[-6:-1][::-1]\n",
    "\n",
    "print(\"Top similar products:\", data['product_id'].iloc[similar_products].values)\n"
   ]
  },
  {
   "cell_type": "markdown",
   "id": "9465d86c-1e40-4c5d-998f-d5bd8e524891",
   "metadata": {},
   "source": [
    "# 3. Time-Based Recommendations"
   ]
  },
  {
   "cell_type": "markdown",
   "id": "8dfd72d2-fbb7-4d3f-a45f-fcc8a2071785",
   "metadata": {},
   "source": [
    "Incorporate temporal information:\n",
    "\n",
    "Analyze purchasing trends over time.\n",
    "\n",
    "Build a time-decay factor to prioritize recent interactions.\n",
    "\n",
    "Identify seasonal trends (e.g., holiday sales)."
   ]
  },
  {
   "cell_type": "code",
   "execution_count": null,
   "id": "76e8e8d1-e2aa-466e-a332-6bc3b4f24c5f",
   "metadata": {},
   "outputs": [],
   "source": [
    "# Add a 'days_since_last_purchase' feature\n",
    "data['days_since_purchase'] = (pd.Timestamp.now() - data['timestamp']).dt.days\n",
    "print(data[['product_id', 'days_since_purchase']].head())\n"
   ]
  },
  {
   "cell_type": "markdown",
   "id": "38371309-89d1-4808-beb3-18bec7a4b786",
   "metadata": {},
   "source": [
    "# 4. Popularity-Based Filtering\n",
    "Recommend the most popular products to new users:\n",
    "\n",
    "Sort products by purchase count, average rating, or revenue."
   ]
  },
  {
   "cell_type": "code",
   "execution_count": null,
   "id": "0b373f41-74d4-4919-a3f6-87cdf1738808",
   "metadata": {},
   "outputs": [],
   "source": [
    "# Popularity by purchase count\n",
    "popular_products = data.groupby('product_id').size().sort_values(ascending=False).head(10)\n",
    "print(popular_products)\n"
   ]
  },
  {
   "cell_type": "markdown",
   "id": "a335589c-f632-4fa5-94b7-2282cea842c6",
   "metadata": {},
   "source": [
    "# 6. Sentiment Analysis (If Review Data is Available)\n",
    "If you have textual reviews, perform sentiment analysis:\n",
    "\n",
    "Use a natural language processing (NLP) model (e.g., TextBlob, VADER) to extract sentiment scores.\n",
    "Incorporate sentiment as a feature in recommendations."
   ]
  },
  {
   "cell_type": "raw",
   "id": "27ca92c4-43ec-4566-a567-12c5f6e1ca67",
   "metadata": {},
   "source": [
    "from textblob import TextBlob\n",
    "\n",
    "data['sentiment'] = data['review'].apply(lambda x: TextBlob(x).sentiment.polarity)\n",
    "print(data[['review', 'sentiment']].head())\n"
   ]
  },
  {
   "cell_type": "markdown",
   "id": "736d64ad-300b-4464-8b89-05ff74cb6ecf",
   "metadata": {},
   "source": [
    "# Improved Visualization\n",
    "Add detailed charts and plots:\n",
    "\n",
    "Heatmaps for user-product interactions.\n",
    "\n",
    "Trends segmented by user demographics (if available)"
   ]
  },
  {
   "cell_type": "code",
   "execution_count": null,
   "id": "00678aa8-85bc-4b9d-969b-be3526321e3a",
   "metadata": {},
   "outputs": [],
   "source": [
    "import seaborn as sns\n",
    "\n",
    "sns.heatmap(interaction_matrix.corr(), cmap=\"coolwarm\", xticklabels=False, yticklabels=False)\n",
    "plt.title(\"User-Product Interaction Heatmap\")\n",
    "plt.show()\n"
   ]
  },
  {
   "cell_type": "code",
   "execution_count": null,
   "id": "c67fdf26-194d-4a5e-87c7-134ab0d8eccf",
   "metadata": {
    "scrolled": true
   },
   "outputs": [],
   "source": [
    "!pip install ipywidgets"
   ]
  },
  {
   "cell_type": "code",
   "execution_count": null,
   "id": "81e17549-7f54-4723-bd86-9af7f83b21b4",
   "metadata": {},
   "outputs": [],
   "source": [
    "from ipywidgets import interact, widgets\n",
    "from IPython.display import display"
   ]
  },
  {
   "cell_type": "code",
   "execution_count": null,
   "id": "f56da1ae-c5c2-45b4-9595-8f459532ad88",
   "metadata": {},
   "outputs": [],
   "source": [
    "# Interactive Recommendation Function\n",
    "def interactive_recommendation(user_id):\n",
    "    \"\"\"\n",
    "    Display recommendations dynamically based on the selected user ID.\n",
    "    \"\"\"\n",
    "    recommendations = recommend_products(user_id, interaction_matrix, user_similarity_df, n_recommendations=5)\n",
    "    print(f\"\\nTop Recommendations for User {user_id}:\\n\")\n",
    "    if isinstance(recommendations, str):  # If user not found\n",
    "        print(recommendations)\n",
    "    else:\n",
    "        display(recommendations)\n",
    "\n"
   ]
  },
  {
   "cell_type": "code",
   "execution_count": null,
   "id": "d87fc405-9d7e-4788-8563-f5f4bcb0f282",
   "metadata": {},
   "outputs": [],
   "source": [
    "# Dropdown Widget for User Selection\n",
    "user_id_widget = widgets.Dropdown(\n",
    "    options=interaction_matrix.index.tolist(),  # All unique user IDs from the dataset\n",
    "    description='User ID:',\n",
    "    style={'description_width': 'initial'},\n",
    ")\n"
   ]
  },
  {
   "cell_type": "code",
   "execution_count": null,
   "id": "4f4996ae-848e-486d-94d6-7d96c16be548",
   "metadata": {},
   "outputs": [],
   "source": [
    "# Link Dropdown to the Recommendation Function\n",
    "interact(interactive_recommendation, user_id=user_id_widget)"
   ]
  },
  {
   "cell_type": "code",
   "execution_count": null,
   "id": "1af4bae1-c0a3-41c8-89e5-37ad677699d7",
   "metadata": {},
   "outputs": [],
   "source": [
    "user_id_widget = widgets.Text(\n",
    "    placeholder='Enter User ID',\n",
    "    description='User ID:',\n",
    "    style={'description_width': 'initial'},\n",
    ")\n"
   ]
  },
  {
   "cell_type": "code",
   "execution_count": null,
   "id": "2a7c704f-df08-4fcd-a585-3097ee7debba",
   "metadata": {},
   "outputs": [],
   "source": [
    "# Create Textbox Widget\n",
    "user_id_widget = widgets.Text(\n",
    "    placeholder='Enter User ID',  # Placeholder text for the textbox\n",
    "    description='User ID:',      # Label for the textbox\n",
    "    style={'description_width': 'initial'},  # Style for the label\n",
    ")\n",
    "\n",
    "# Button to Trigger Recommendation\n",
    "button = widgets.Button(\n",
    "    description=\"Get Recommendations\",\n",
    "    button_style='primary',  # Can use 'success', 'info', 'warning', 'danger'\n",
    ")\n",
    "\n",
    "# Output Widget for Displaying Results\n",
    "output = widgets.Output()\n",
    "\n",
    "# Define Callback Function\n",
    "def on_button_click(change):\n",
    "    with output:\n",
    "        output.clear_output()  # Clear previous output\n",
    "        user_id = user_id_widget.value.strip()  # Get the user ID from the textbox\n",
    "        if user_id:\n",
    "            recommendations = recommend_products(user_id, interaction_matrix, user_similarity_df, n_recommendations=5)\n",
    "            print(f\"\\nTop Recommendations for User {user_id}:\\n\")\n",
    "            if isinstance(recommendations, str):  # If user not found\n",
    "                print(recommendations)\n",
    "            else:\n",
    "                display(recommendations)\n",
    "        else:\n",
    "            print(\"Please enter a valid User ID.\")\n",
    "\n",
    "# Link the Button Click to the Callback\n",
    "button.on_click(on_button_click)\n",
    "\n",
    "# Display the Widgets\n",
    "#display(VBox([user_id_widget, button, output]))\n"
   ]
  },
  {
   "cell_type": "code",
   "execution_count": null,
   "id": "a06ae714-1ef2-471d-a3c1-d3edb60663ea",
   "metadata": {},
   "outputs": [],
   "source": [
    "display([user_id_widget, button, output])"
   ]
  }
 ],
 "metadata": {
  "kernelspec": {
   "display_name": "Python 3 (ipykernel)",
   "language": "python",
   "name": "python3"
  },
  "language_info": {
   "codemirror_mode": {
    "name": "ipython",
    "version": 3
   },
   "file_extension": ".py",
   "mimetype": "text/x-python",
   "name": "python",
   "nbconvert_exporter": "python",
   "pygments_lexer": "ipython3",
   "version": "3.10.4"
  }
 },
 "nbformat": 4,
 "nbformat_minor": 5
}
